{
 "cells": [
  {
   "cell_type": "code",
   "execution_count": null,
   "id": "5f1e27dc",
   "metadata": {},
   "outputs": [],
   "source": [
    "# importing libraries\n",
    "from tensorflow.keras import layers, models"
   ]
  },
  {
   "cell_type": "markdown",
   "id": "0ba13770",
   "metadata": {},
   "source": [
    "### Load pretrained model"
   ]
  },
  {
   "cell_type": "markdown",
   "id": "d247da28",
   "metadata": {},
   "source": [
    "loading the VGG16\n",
    "\n",
    "* Write a first function `load_model()` that loads the pretrained VGG-16 model from `tensorflow.keras.applications.vgg16`. Have a look at the documentation 📚  [tf/keras/applications/VGG16](https://www.tensorflow.org/api_docs/python/tf/keras/applications/VGG16)📚\n",
    "\n",
    "* We will **load the VGG16 model** the following way:\n",
    "    - 🤯 Let's use the **weights** learned on the [**imagenet dataset**](https://www.image-net.org/download.php) (14M pictures with 20k labels)\n",
    "    - The **`input_shape`** corresponds to the input shape of your images \n",
    "        - Note: *You have to resize them down to a consistent shape if they have different height/widths/channels*\n",
    "    - The **`include_top`** argument should be set to `False`: \n",
    "        - to avoid loading the weights of the fully-connected layers of the VGG16\n",
    "        - and also remove the last layer of the VGG16 which was specifically trained on `imagenet`\n",
    "\n",
    "<i><u>Remark:</u></i> Do not change the default value of the other arguments"
   ]
  },
  {
   "cell_type": "code",
   "execution_count": 1,
   "id": "f52b168e",
   "metadata": {},
   "outputs": [],
   "source": [
    "# from keras.applications.vgg16 import model_pretrained_to_import\n",
    "# nota: esto aplica ern caso de que usemos algun modelo de tensorflow keras. \n",
    "def load_model(imput_shape:tuple=None, weights:str=\"imagenet\", model_pretrained=None, train_fitst_layers:bool= False):\n",
    "    \"\"\"\n",
    "    Funcion que carga el modelo preentrenado.\n",
    "    Parametros:\n",
    "    - imput_shape: corresponde al imput_shape de las inmagenes. LARGO  ANCHO X CANALES. Ejempplo: (224,224,3)\n",
    "    - weights: the path to the weights file to be loaded. revisar la docmunetacion para ver que dataset se uso. mayoria de los casos va a ser \"imagenet\".\n",
    "    - train_fitst_layers: si se quiere o no entrenar las capas del modelo preentrenado.\n",
    "    - model_pretrained: modelo preentrenado importsado de keras.\n",
    "    \"\"\"\n",
    "    model = model_pretrained(weights=weights, include_top=False, input_shape=imput_shape)\n",
    "\n",
    "    if train_first_layers:\n",
    "        return model\n",
    "    return model.trainable"
   ]
  },
  {
   "cell_type": "markdown",
   "id": "fc64493f",
   "metadata": {},
   "source": [
    "### Chaining the pretratined model with our own dense layers"
   ]
  },
  {
   "cell_type": "code",
   "execution_count": null,
   "id": "ded51f31",
   "metadata": {},
   "outputs": [
    {
     "ename": "ModuleNotFoundError",
     "evalue": "No module named 'keras'",
     "output_type": "error",
     "traceback": [
      "\u001b[0;31m---------------------------------------------------------------------------\u001b[0m",
      "\u001b[0;31mModuleNotFoundError\u001b[0m                       Traceback (most recent call last)",
      "Cell \u001b[0;32mIn[2], line 1\u001b[0m\n\u001b[0;32m----> 1\u001b[0m \u001b[38;5;28;01mfrom\u001b[39;00m\u001b[38;5;250m \u001b[39m\u001b[38;5;21;01mkeras\u001b[39;00m\u001b[38;5;250m \u001b[39m\u001b[38;5;28;01mimport\u001b[39;00m layers, models\n\u001b[1;32m      3\u001b[0m \u001b[38;5;28;01mdef\u001b[39;00m\u001b[38;5;250m \u001b[39m\u001b[38;5;21madd_last_layers\u001b[39m(model):\n\u001b[1;32m      4\u001b[0m \u001b[38;5;250m    \u001b[39m\u001b[38;5;124;03m'''Take a pre-trained model, set its parameters as non-trainable, and add additional trainable layers on top'''\u001b[39;00m\n",
      "\u001b[0;31mModuleNotFoundError\u001b[0m: No module named 'keras'"
     ]
    }
   ],
   "source": [
    "\n",
    "def add_last_layers(model):\n",
    "    '''Take a pre-trained model, set its parameters as non-trainable, and add additional trainable layers on top'''\n",
    "\n",
    "    base_model = set_nontrainable_layers(model)\n",
    "    flatten_layer = layers.Flatten()\n",
    "    dense_layer = layers.Dense(500, activation='relu')\n",
    "    prediction_layer = layers.Dense(3, activation='softmax')\n",
    "\n",
    "\n",
    "    model = models.Sequential([\n",
    "        base_model,\n",
    "        flatten_layer,\n",
    "        dense_layer,\n",
    "        prediction_layer\n",
    "    ])\n",
    "\n",
    "    return model"
   ]
  },
  {
   "cell_type": "code",
   "execution_count": 3,
   "id": "92985117",
   "metadata": {},
   "outputs": [],
   "source": [
    "import pandas as pd"
   ]
  },
  {
   "cell_type": "code",
   "execution_count": null,
   "id": "51c0ffba",
   "metadata": {},
   "outputs": [],
   "source": []
  }
 ],
 "metadata": {
  "kernelspec": {
   "display_name": "coffee-disease-detection",
   "language": "python",
   "name": "python3"
  },
  "language_info": {
   "codemirror_mode": {
    "name": "ipython",
    "version": 3
   },
   "file_extension": ".py",
   "mimetype": "text/x-python",
   "name": "python",
   "nbconvert_exporter": "python",
   "pygments_lexer": "ipython3",
   "version": "3.10.6"
  }
 },
 "nbformat": 4,
 "nbformat_minor": 5
}
